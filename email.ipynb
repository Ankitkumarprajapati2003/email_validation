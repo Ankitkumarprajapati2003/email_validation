{
 "cells": [
  {
   "cell_type": "code",
   "execution_count": 4,
   "metadata": {},
   "outputs": [
    {
     "name": "stdout",
     "output_type": "stream",
     "text": [
      "wrong Email 4\n"
     ]
    }
   ],
   "source": [
    "email=input(\"Enter your email:\"); #g@g.in\n",
    "\n",
    "# condtion are.. 1) minimum 6 character\n",
    "#                2) no uppercase letter\n",
    "#                3) first letter alphabet\n",
    "#                4) only one @ should be there\n",
    "#                5) (.) postion should be in third or fourth position form right to left\n",
    "#                6)  there should be no space between any character\n",
    "\n",
    "k,j,d=0,0,0\n",
    "if len(email)>=6:\n",
    "    if email[0].isalpha():\n",
    "        if (\"@\" in email) and (email.count(\"@\")==1):\n",
    "            if (email[-4]==\".\") ^ (email[-3]==\".\"):\n",
    "                for i in email:\n",
    "                    if i==i.isspace():\n",
    "                        k=1\n",
    "                    elif i.isalpha():\n",
    "                        if i==i.upper():   # w-- W\n",
    "                            j=1\n",
    "                    elif i.isdigit():\n",
    "                        continue\n",
    "                    elif i==\"_\" or i==\".\" or i==\"@\":\n",
    "                        continue\n",
    "                    else:\n",
    "                        d=1     \n",
    "                            \n",
    "                if k==1 or j==1 or d==1:\n",
    "                    print(\"wrong email 5\")\n",
    "                            \n",
    "            else:\n",
    "                print(\"wrong Email 4\")            \n",
    "        else:\n",
    "            print(\"wrong Email 3\")\n",
    "    else:\n",
    "        print(\"wrong Email 2\")\n",
    "else:\n",
    "    print(\"wrong Email 1\")\n",
    "\n"
   ]
  }
 ],
 "metadata": {
  "kernelspec": {
   "display_name": "Python 3",
   "language": "python",
   "name": "python3"
  },
  "language_info": {
   "codemirror_mode": {
    "name": "ipython",
    "version": 3
   },
   "file_extension": ".py",
   "mimetype": "text/x-python",
   "name": "python",
   "nbconvert_exporter": "python",
   "pygments_lexer": "ipython3",
   "version": "3.11.4"
  }
 },
 "nbformat": 4,
 "nbformat_minor": 2
}
